{
  "nbformat": 4,
  "nbformat_minor": 0,
  "metadata": {
    "colab": {
      "name": "Unsupervised Pretraining.ipynb",
      "provenance": [],
      "authorship_tag": "ABX9TyP52iktNPxvwc5PfP77hfcb",
      "include_colab_link": true
    },
    "kernelspec": {
      "name": "python3",
      "display_name": "Python 3"
    },
    "accelerator": "GPU",
    "widgets": {
      "application/vnd.jupyter.widget-state+json": {
        "8adb29d99c1545ea8e75b2ae9801b312": {
          "model_module": "@jupyter-widgets/controls",
          "model_name": "HBoxModel",
          "state": {
            "_view_name": "HBoxView",
            "_dom_classes": [],
            "_model_name": "HBoxModel",
            "_view_module": "@jupyter-widgets/controls",
            "_model_module_version": "1.5.0",
            "_view_count": null,
            "_view_module_version": "1.5.0",
            "box_style": "",
            "layout": "IPY_MODEL_d583af74ee434b4cb1f084e9607c893d",
            "_model_module": "@jupyter-widgets/controls",
            "children": [
              "IPY_MODEL_fef88aab8b474e0590d25d90cb289e8f",
              "IPY_MODEL_3fb7d1dae80a4e188c7027f81e2e2780"
            ]
          }
        },
        "d583af74ee434b4cb1f084e9607c893d": {
          "model_module": "@jupyter-widgets/base",
          "model_name": "LayoutModel",
          "state": {
            "_view_name": "LayoutView",
            "grid_template_rows": null,
            "right": null,
            "justify_content": null,
            "_view_module": "@jupyter-widgets/base",
            "overflow": null,
            "_model_module_version": "1.2.0",
            "_view_count": null,
            "flex_flow": null,
            "width": null,
            "min_width": null,
            "border": null,
            "align_items": null,
            "bottom": null,
            "_model_module": "@jupyter-widgets/base",
            "top": null,
            "grid_column": null,
            "overflow_y": null,
            "overflow_x": null,
            "grid_auto_flow": null,
            "grid_area": null,
            "grid_template_columns": null,
            "flex": null,
            "_model_name": "LayoutModel",
            "justify_items": null,
            "grid_row": null,
            "max_height": null,
            "align_content": null,
            "visibility": null,
            "align_self": null,
            "height": null,
            "min_height": null,
            "padding": null,
            "grid_auto_rows": null,
            "grid_gap": null,
            "max_width": null,
            "order": null,
            "_view_module_version": "1.2.0",
            "grid_template_areas": null,
            "object_position": null,
            "object_fit": null,
            "grid_auto_columns": null,
            "margin": null,
            "display": null,
            "left": null
          }
        },
        "fef88aab8b474e0590d25d90cb289e8f": {
          "model_module": "@jupyter-widgets/controls",
          "model_name": "FloatProgressModel",
          "state": {
            "_view_name": "ProgressView",
            "style": "IPY_MODEL_0bbfbfed407849e4b30c3894cc15d1ce",
            "_dom_classes": [],
            "description": "",
            "_model_name": "FloatProgressModel",
            "bar_style": "info",
            "max": 1,
            "_view_module": "@jupyter-widgets/controls",
            "_model_module_version": "1.5.0",
            "value": 1,
            "_view_count": null,
            "_view_module_version": "1.5.0",
            "orientation": "horizontal",
            "min": 0,
            "description_tooltip": null,
            "_model_module": "@jupyter-widgets/controls",
            "layout": "IPY_MODEL_fc2aad036b084b68a84a51e87d44b99b"
          }
        },
        "3fb7d1dae80a4e188c7027f81e2e2780": {
          "model_module": "@jupyter-widgets/controls",
          "model_name": "HTMLModel",
          "state": {
            "_view_name": "HTMLView",
            "style": "IPY_MODEL_7e03410749ac432283cf9a9dde8a8a55",
            "_dom_classes": [],
            "description": "",
            "_model_name": "HTMLModel",
            "placeholder": "​",
            "_view_module": "@jupyter-widgets/controls",
            "_model_module_version": "1.5.0",
            "value": " 26427392/? [00:20&lt;00:00, 8661111.34it/s]",
            "_view_count": null,
            "_view_module_version": "1.5.0",
            "description_tooltip": null,
            "_model_module": "@jupyter-widgets/controls",
            "layout": "IPY_MODEL_247c144e8135442caf57a0342e5c7c1f"
          }
        },
        "0bbfbfed407849e4b30c3894cc15d1ce": {
          "model_module": "@jupyter-widgets/controls",
          "model_name": "ProgressStyleModel",
          "state": {
            "_view_name": "StyleView",
            "_model_name": "ProgressStyleModel",
            "description_width": "initial",
            "_view_module": "@jupyter-widgets/base",
            "_model_module_version": "1.5.0",
            "_view_count": null,
            "_view_module_version": "1.2.0",
            "bar_color": null,
            "_model_module": "@jupyter-widgets/controls"
          }
        },
        "fc2aad036b084b68a84a51e87d44b99b": {
          "model_module": "@jupyter-widgets/base",
          "model_name": "LayoutModel",
          "state": {
            "_view_name": "LayoutView",
            "grid_template_rows": null,
            "right": null,
            "justify_content": null,
            "_view_module": "@jupyter-widgets/base",
            "overflow": null,
            "_model_module_version": "1.2.0",
            "_view_count": null,
            "flex_flow": null,
            "width": null,
            "min_width": null,
            "border": null,
            "align_items": null,
            "bottom": null,
            "_model_module": "@jupyter-widgets/base",
            "top": null,
            "grid_column": null,
            "overflow_y": null,
            "overflow_x": null,
            "grid_auto_flow": null,
            "grid_area": null,
            "grid_template_columns": null,
            "flex": null,
            "_model_name": "LayoutModel",
            "justify_items": null,
            "grid_row": null,
            "max_height": null,
            "align_content": null,
            "visibility": null,
            "align_self": null,
            "height": null,
            "min_height": null,
            "padding": null,
            "grid_auto_rows": null,
            "grid_gap": null,
            "max_width": null,
            "order": null,
            "_view_module_version": "1.2.0",
            "grid_template_areas": null,
            "object_position": null,
            "object_fit": null,
            "grid_auto_columns": null,
            "margin": null,
            "display": null,
            "left": null
          }
        },
        "7e03410749ac432283cf9a9dde8a8a55": {
          "model_module": "@jupyter-widgets/controls",
          "model_name": "DescriptionStyleModel",
          "state": {
            "_view_name": "StyleView",
            "_model_name": "DescriptionStyleModel",
            "description_width": "",
            "_view_module": "@jupyter-widgets/base",
            "_model_module_version": "1.5.0",
            "_view_count": null,
            "_view_module_version": "1.2.0",
            "_model_module": "@jupyter-widgets/controls"
          }
        },
        "247c144e8135442caf57a0342e5c7c1f": {
          "model_module": "@jupyter-widgets/base",
          "model_name": "LayoutModel",
          "state": {
            "_view_name": "LayoutView",
            "grid_template_rows": null,
            "right": null,
            "justify_content": null,
            "_view_module": "@jupyter-widgets/base",
            "overflow": null,
            "_model_module_version": "1.2.0",
            "_view_count": null,
            "flex_flow": null,
            "width": null,
            "min_width": null,
            "border": null,
            "align_items": null,
            "bottom": null,
            "_model_module": "@jupyter-widgets/base",
            "top": null,
            "grid_column": null,
            "overflow_y": null,
            "overflow_x": null,
            "grid_auto_flow": null,
            "grid_area": null,
            "grid_template_columns": null,
            "flex": null,
            "_model_name": "LayoutModel",
            "justify_items": null,
            "grid_row": null,
            "max_height": null,
            "align_content": null,
            "visibility": null,
            "align_self": null,
            "height": null,
            "min_height": null,
            "padding": null,
            "grid_auto_rows": null,
            "grid_gap": null,
            "max_width": null,
            "order": null,
            "_view_module_version": "1.2.0",
            "grid_template_areas": null,
            "object_position": null,
            "object_fit": null,
            "grid_auto_columns": null,
            "margin": null,
            "display": null,
            "left": null
          }
        },
        "c7c075e5bb8a40a5be35352f684049e7": {
          "model_module": "@jupyter-widgets/controls",
          "model_name": "HBoxModel",
          "state": {
            "_view_name": "HBoxView",
            "_dom_classes": [],
            "_model_name": "HBoxModel",
            "_view_module": "@jupyter-widgets/controls",
            "_model_module_version": "1.5.0",
            "_view_count": null,
            "_view_module_version": "1.5.0",
            "box_style": "",
            "layout": "IPY_MODEL_b465fbcff4df486ba511cfd952ae9465",
            "_model_module": "@jupyter-widgets/controls",
            "children": [
              "IPY_MODEL_1bd31998cde74b949fa6da304e872355",
              "IPY_MODEL_5565c1a0ba664aea9add62ae58c1ff98"
            ]
          }
        },
        "b465fbcff4df486ba511cfd952ae9465": {
          "model_module": "@jupyter-widgets/base",
          "model_name": "LayoutModel",
          "state": {
            "_view_name": "LayoutView",
            "grid_template_rows": null,
            "right": null,
            "justify_content": null,
            "_view_module": "@jupyter-widgets/base",
            "overflow": null,
            "_model_module_version": "1.2.0",
            "_view_count": null,
            "flex_flow": null,
            "width": null,
            "min_width": null,
            "border": null,
            "align_items": null,
            "bottom": null,
            "_model_module": "@jupyter-widgets/base",
            "top": null,
            "grid_column": null,
            "overflow_y": null,
            "overflow_x": null,
            "grid_auto_flow": null,
            "grid_area": null,
            "grid_template_columns": null,
            "flex": null,
            "_model_name": "LayoutModel",
            "justify_items": null,
            "grid_row": null,
            "max_height": null,
            "align_content": null,
            "visibility": null,
            "align_self": null,
            "height": null,
            "min_height": null,
            "padding": null,
            "grid_auto_rows": null,
            "grid_gap": null,
            "max_width": null,
            "order": null,
            "_view_module_version": "1.2.0",
            "grid_template_areas": null,
            "object_position": null,
            "object_fit": null,
            "grid_auto_columns": null,
            "margin": null,
            "display": null,
            "left": null
          }
        },
        "1bd31998cde74b949fa6da304e872355": {
          "model_module": "@jupyter-widgets/controls",
          "model_name": "FloatProgressModel",
          "state": {
            "_view_name": "ProgressView",
            "style": "IPY_MODEL_aaabbd1765274bafa4e5fd04a0a2e338",
            "_dom_classes": [],
            "description": "",
            "_model_name": "FloatProgressModel",
            "bar_style": "success",
            "max": 1,
            "_view_module": "@jupyter-widgets/controls",
            "_model_module_version": "1.5.0",
            "value": 1,
            "_view_count": null,
            "_view_module_version": "1.5.0",
            "orientation": "horizontal",
            "min": 0,
            "description_tooltip": null,
            "_model_module": "@jupyter-widgets/controls",
            "layout": "IPY_MODEL_a95a698f19aa48c8a9da6e315b8b4b68"
          }
        },
        "5565c1a0ba664aea9add62ae58c1ff98": {
          "model_module": "@jupyter-widgets/controls",
          "model_name": "HTMLModel",
          "state": {
            "_view_name": "HTMLView",
            "style": "IPY_MODEL_22aff238769b415988dfa41ae35fdad7",
            "_dom_classes": [],
            "description": "",
            "_model_name": "HTMLModel",
            "placeholder": "​",
            "_view_module": "@jupyter-widgets/controls",
            "_model_module_version": "1.5.0",
            "value": " 32768/? [00:00&lt;00:00, 78743.98it/s]",
            "_view_count": null,
            "_view_module_version": "1.5.0",
            "description_tooltip": null,
            "_model_module": "@jupyter-widgets/controls",
            "layout": "IPY_MODEL_34a4124075e44a73bd4e891d5bf8cfdd"
          }
        },
        "aaabbd1765274bafa4e5fd04a0a2e338": {
          "model_module": "@jupyter-widgets/controls",
          "model_name": "ProgressStyleModel",
          "state": {
            "_view_name": "StyleView",
            "_model_name": "ProgressStyleModel",
            "description_width": "initial",
            "_view_module": "@jupyter-widgets/base",
            "_model_module_version": "1.5.0",
            "_view_count": null,
            "_view_module_version": "1.2.0",
            "bar_color": null,
            "_model_module": "@jupyter-widgets/controls"
          }
        },
        "a95a698f19aa48c8a9da6e315b8b4b68": {
          "model_module": "@jupyter-widgets/base",
          "model_name": "LayoutModel",
          "state": {
            "_view_name": "LayoutView",
            "grid_template_rows": null,
            "right": null,
            "justify_content": null,
            "_view_module": "@jupyter-widgets/base",
            "overflow": null,
            "_model_module_version": "1.2.0",
            "_view_count": null,
            "flex_flow": null,
            "width": null,
            "min_width": null,
            "border": null,
            "align_items": null,
            "bottom": null,
            "_model_module": "@jupyter-widgets/base",
            "top": null,
            "grid_column": null,
            "overflow_y": null,
            "overflow_x": null,
            "grid_auto_flow": null,
            "grid_area": null,
            "grid_template_columns": null,
            "flex": null,
            "_model_name": "LayoutModel",
            "justify_items": null,
            "grid_row": null,
            "max_height": null,
            "align_content": null,
            "visibility": null,
            "align_self": null,
            "height": null,
            "min_height": null,
            "padding": null,
            "grid_auto_rows": null,
            "grid_gap": null,
            "max_width": null,
            "order": null,
            "_view_module_version": "1.2.0",
            "grid_template_areas": null,
            "object_position": null,
            "object_fit": null,
            "grid_auto_columns": null,
            "margin": null,
            "display": null,
            "left": null
          }
        },
        "22aff238769b415988dfa41ae35fdad7": {
          "model_module": "@jupyter-widgets/controls",
          "model_name": "DescriptionStyleModel",
          "state": {
            "_view_name": "StyleView",
            "_model_name": "DescriptionStyleModel",
            "description_width": "",
            "_view_module": "@jupyter-widgets/base",
            "_model_module_version": "1.5.0",
            "_view_count": null,
            "_view_module_version": "1.2.0",
            "_model_module": "@jupyter-widgets/controls"
          }
        },
        "34a4124075e44a73bd4e891d5bf8cfdd": {
          "model_module": "@jupyter-widgets/base",
          "model_name": "LayoutModel",
          "state": {
            "_view_name": "LayoutView",
            "grid_template_rows": null,
            "right": null,
            "justify_content": null,
            "_view_module": "@jupyter-widgets/base",
            "overflow": null,
            "_model_module_version": "1.2.0",
            "_view_count": null,
            "flex_flow": null,
            "width": null,
            "min_width": null,
            "border": null,
            "align_items": null,
            "bottom": null,
            "_model_module": "@jupyter-widgets/base",
            "top": null,
            "grid_column": null,
            "overflow_y": null,
            "overflow_x": null,
            "grid_auto_flow": null,
            "grid_area": null,
            "grid_template_columns": null,
            "flex": null,
            "_model_name": "LayoutModel",
            "justify_items": null,
            "grid_row": null,
            "max_height": null,
            "align_content": null,
            "visibility": null,
            "align_self": null,
            "height": null,
            "min_height": null,
            "padding": null,
            "grid_auto_rows": null,
            "grid_gap": null,
            "max_width": null,
            "order": null,
            "_view_module_version": "1.2.0",
            "grid_template_areas": null,
            "object_position": null,
            "object_fit": null,
            "grid_auto_columns": null,
            "margin": null,
            "display": null,
            "left": null
          }
        },
        "c120729f4cc3438abea60246e43558c5": {
          "model_module": "@jupyter-widgets/controls",
          "model_name": "HBoxModel",
          "state": {
            "_view_name": "HBoxView",
            "_dom_classes": [],
            "_model_name": "HBoxModel",
            "_view_module": "@jupyter-widgets/controls",
            "_model_module_version": "1.5.0",
            "_view_count": null,
            "_view_module_version": "1.5.0",
            "box_style": "",
            "layout": "IPY_MODEL_6fa42ce73b874e0cb2adaa52496944e6",
            "_model_module": "@jupyter-widgets/controls",
            "children": [
              "IPY_MODEL_d9bd56b9e44240bfaf336bcd86d910f5",
              "IPY_MODEL_4f6c9f79e009470ca6bddd98c3542bef"
            ]
          }
        },
        "6fa42ce73b874e0cb2adaa52496944e6": {
          "model_module": "@jupyter-widgets/base",
          "model_name": "LayoutModel",
          "state": {
            "_view_name": "LayoutView",
            "grid_template_rows": null,
            "right": null,
            "justify_content": null,
            "_view_module": "@jupyter-widgets/base",
            "overflow": null,
            "_model_module_version": "1.2.0",
            "_view_count": null,
            "flex_flow": null,
            "width": null,
            "min_width": null,
            "border": null,
            "align_items": null,
            "bottom": null,
            "_model_module": "@jupyter-widgets/base",
            "top": null,
            "grid_column": null,
            "overflow_y": null,
            "overflow_x": null,
            "grid_auto_flow": null,
            "grid_area": null,
            "grid_template_columns": null,
            "flex": null,
            "_model_name": "LayoutModel",
            "justify_items": null,
            "grid_row": null,
            "max_height": null,
            "align_content": null,
            "visibility": null,
            "align_self": null,
            "height": null,
            "min_height": null,
            "padding": null,
            "grid_auto_rows": null,
            "grid_gap": null,
            "max_width": null,
            "order": null,
            "_view_module_version": "1.2.0",
            "grid_template_areas": null,
            "object_position": null,
            "object_fit": null,
            "grid_auto_columns": null,
            "margin": null,
            "display": null,
            "left": null
          }
        },
        "d9bd56b9e44240bfaf336bcd86d910f5": {
          "model_module": "@jupyter-widgets/controls",
          "model_name": "FloatProgressModel",
          "state": {
            "_view_name": "ProgressView",
            "style": "IPY_MODEL_e1949a0f54fe48d397859aa058f0cb54",
            "_dom_classes": [],
            "description": "",
            "_model_name": "FloatProgressModel",
            "bar_style": "info",
            "max": 1,
            "_view_module": "@jupyter-widgets/controls",
            "_model_module_version": "1.5.0",
            "value": 1,
            "_view_count": null,
            "_view_module_version": "1.5.0",
            "orientation": "horizontal",
            "min": 0,
            "description_tooltip": null,
            "_model_module": "@jupyter-widgets/controls",
            "layout": "IPY_MODEL_9298bd4c9c4446fb879f8ac053699a44"
          }
        },
        "4f6c9f79e009470ca6bddd98c3542bef": {
          "model_module": "@jupyter-widgets/controls",
          "model_name": "HTMLModel",
          "state": {
            "_view_name": "HTMLView",
            "style": "IPY_MODEL_98f01cafcd20448d8f385f745825566e",
            "_dom_classes": [],
            "description": "",
            "_model_name": "HTMLModel",
            "placeholder": "​",
            "_view_module": "@jupyter-widgets/controls",
            "_model_module_version": "1.5.0",
            "value": " 4423680/? [00:17&lt;00:00, 1042022.84it/s]",
            "_view_count": null,
            "_view_module_version": "1.5.0",
            "description_tooltip": null,
            "_model_module": "@jupyter-widgets/controls",
            "layout": "IPY_MODEL_b8755955259246c4b2952ee8f4f29d2f"
          }
        },
        "e1949a0f54fe48d397859aa058f0cb54": {
          "model_module": "@jupyter-widgets/controls",
          "model_name": "ProgressStyleModel",
          "state": {
            "_view_name": "StyleView",
            "_model_name": "ProgressStyleModel",
            "description_width": "initial",
            "_view_module": "@jupyter-widgets/base",
            "_model_module_version": "1.5.0",
            "_view_count": null,
            "_view_module_version": "1.2.0",
            "bar_color": null,
            "_model_module": "@jupyter-widgets/controls"
          }
        },
        "9298bd4c9c4446fb879f8ac053699a44": {
          "model_module": "@jupyter-widgets/base",
          "model_name": "LayoutModel",
          "state": {
            "_view_name": "LayoutView",
            "grid_template_rows": null,
            "right": null,
            "justify_content": null,
            "_view_module": "@jupyter-widgets/base",
            "overflow": null,
            "_model_module_version": "1.2.0",
            "_view_count": null,
            "flex_flow": null,
            "width": null,
            "min_width": null,
            "border": null,
            "align_items": null,
            "bottom": null,
            "_model_module": "@jupyter-widgets/base",
            "top": null,
            "grid_column": null,
            "overflow_y": null,
            "overflow_x": null,
            "grid_auto_flow": null,
            "grid_area": null,
            "grid_template_columns": null,
            "flex": null,
            "_model_name": "LayoutModel",
            "justify_items": null,
            "grid_row": null,
            "max_height": null,
            "align_content": null,
            "visibility": null,
            "align_self": null,
            "height": null,
            "min_height": null,
            "padding": null,
            "grid_auto_rows": null,
            "grid_gap": null,
            "max_width": null,
            "order": null,
            "_view_module_version": "1.2.0",
            "grid_template_areas": null,
            "object_position": null,
            "object_fit": null,
            "grid_auto_columns": null,
            "margin": null,
            "display": null,
            "left": null
          }
        },
        "98f01cafcd20448d8f385f745825566e": {
          "model_module": "@jupyter-widgets/controls",
          "model_name": "DescriptionStyleModel",
          "state": {
            "_view_name": "StyleView",
            "_model_name": "DescriptionStyleModel",
            "description_width": "",
            "_view_module": "@jupyter-widgets/base",
            "_model_module_version": "1.5.0",
            "_view_count": null,
            "_view_module_version": "1.2.0",
            "_model_module": "@jupyter-widgets/controls"
          }
        },
        "b8755955259246c4b2952ee8f4f29d2f": {
          "model_module": "@jupyter-widgets/base",
          "model_name": "LayoutModel",
          "state": {
            "_view_name": "LayoutView",
            "grid_template_rows": null,
            "right": null,
            "justify_content": null,
            "_view_module": "@jupyter-widgets/base",
            "overflow": null,
            "_model_module_version": "1.2.0",
            "_view_count": null,
            "flex_flow": null,
            "width": null,
            "min_width": null,
            "border": null,
            "align_items": null,
            "bottom": null,
            "_model_module": "@jupyter-widgets/base",
            "top": null,
            "grid_column": null,
            "overflow_y": null,
            "overflow_x": null,
            "grid_auto_flow": null,
            "grid_area": null,
            "grid_template_columns": null,
            "flex": null,
            "_model_name": "LayoutModel",
            "justify_items": null,
            "grid_row": null,
            "max_height": null,
            "align_content": null,
            "visibility": null,
            "align_self": null,
            "height": null,
            "min_height": null,
            "padding": null,
            "grid_auto_rows": null,
            "grid_gap": null,
            "max_width": null,
            "order": null,
            "_view_module_version": "1.2.0",
            "grid_template_areas": null,
            "object_position": null,
            "object_fit": null,
            "grid_auto_columns": null,
            "margin": null,
            "display": null,
            "left": null
          }
        },
        "0512d0f97cb14eef8d5b8efea66c32d3": {
          "model_module": "@jupyter-widgets/controls",
          "model_name": "HBoxModel",
          "state": {
            "_view_name": "HBoxView",
            "_dom_classes": [],
            "_model_name": "HBoxModel",
            "_view_module": "@jupyter-widgets/controls",
            "_model_module_version": "1.5.0",
            "_view_count": null,
            "_view_module_version": "1.5.0",
            "box_style": "",
            "layout": "IPY_MODEL_c1bb14eb333f4c43910742230a459afe",
            "_model_module": "@jupyter-widgets/controls",
            "children": [
              "IPY_MODEL_88a5b07a689443239b2d953d829eb195",
              "IPY_MODEL_cd06d41cfea342319e97fdffbba42f4e"
            ]
          }
        },
        "c1bb14eb333f4c43910742230a459afe": {
          "model_module": "@jupyter-widgets/base",
          "model_name": "LayoutModel",
          "state": {
            "_view_name": "LayoutView",
            "grid_template_rows": null,
            "right": null,
            "justify_content": null,
            "_view_module": "@jupyter-widgets/base",
            "overflow": null,
            "_model_module_version": "1.2.0",
            "_view_count": null,
            "flex_flow": null,
            "width": null,
            "min_width": null,
            "border": null,
            "align_items": null,
            "bottom": null,
            "_model_module": "@jupyter-widgets/base",
            "top": null,
            "grid_column": null,
            "overflow_y": null,
            "overflow_x": null,
            "grid_auto_flow": null,
            "grid_area": null,
            "grid_template_columns": null,
            "flex": null,
            "_model_name": "LayoutModel",
            "justify_items": null,
            "grid_row": null,
            "max_height": null,
            "align_content": null,
            "visibility": null,
            "align_self": null,
            "height": null,
            "min_height": null,
            "padding": null,
            "grid_auto_rows": null,
            "grid_gap": null,
            "max_width": null,
            "order": null,
            "_view_module_version": "1.2.0",
            "grid_template_areas": null,
            "object_position": null,
            "object_fit": null,
            "grid_auto_columns": null,
            "margin": null,
            "display": null,
            "left": null
          }
        },
        "88a5b07a689443239b2d953d829eb195": {
          "model_module": "@jupyter-widgets/controls",
          "model_name": "FloatProgressModel",
          "state": {
            "_view_name": "ProgressView",
            "style": "IPY_MODEL_0417053a730545d29c1c2ef2d01dcb91",
            "_dom_classes": [],
            "description": "  0%",
            "_model_name": "FloatProgressModel",
            "bar_style": "info",
            "max": 1,
            "_view_module": "@jupyter-widgets/controls",
            "_model_module_version": "1.5.0",
            "value": 0,
            "_view_count": null,
            "_view_module_version": "1.5.0",
            "orientation": "horizontal",
            "min": 0,
            "description_tooltip": null,
            "_model_module": "@jupyter-widgets/controls",
            "layout": "IPY_MODEL_2dbb9f6d6a0443d78186ca14aae03e0a"
          }
        },
        "cd06d41cfea342319e97fdffbba42f4e": {
          "model_module": "@jupyter-widgets/controls",
          "model_name": "HTMLModel",
          "state": {
            "_view_name": "HTMLView",
            "style": "IPY_MODEL_eb8622f85df841cfa00228b5cef9ba59",
            "_dom_classes": [],
            "description": "",
            "_model_name": "HTMLModel",
            "placeholder": "​",
            "_view_module": "@jupyter-widgets/controls",
            "_model_module_version": "1.5.0",
            "value": " 0/5148 [00:00&lt;?, ?it/s]",
            "_view_count": null,
            "_view_module_version": "1.5.0",
            "description_tooltip": null,
            "_model_module": "@jupyter-widgets/controls",
            "layout": "IPY_MODEL_85b4f83b500c4efd98babf47ffb6b8e0"
          }
        },
        "0417053a730545d29c1c2ef2d01dcb91": {
          "model_module": "@jupyter-widgets/controls",
          "model_name": "ProgressStyleModel",
          "state": {
            "_view_name": "StyleView",
            "_model_name": "ProgressStyleModel",
            "description_width": "initial",
            "_view_module": "@jupyter-widgets/base",
            "_model_module_version": "1.5.0",
            "_view_count": null,
            "_view_module_version": "1.2.0",
            "bar_color": null,
            "_model_module": "@jupyter-widgets/controls"
          }
        },
        "2dbb9f6d6a0443d78186ca14aae03e0a": {
          "model_module": "@jupyter-widgets/base",
          "model_name": "LayoutModel",
          "state": {
            "_view_name": "LayoutView",
            "grid_template_rows": null,
            "right": null,
            "justify_content": null,
            "_view_module": "@jupyter-widgets/base",
            "overflow": null,
            "_model_module_version": "1.2.0",
            "_view_count": null,
            "flex_flow": null,
            "width": null,
            "min_width": null,
            "border": null,
            "align_items": null,
            "bottom": null,
            "_model_module": "@jupyter-widgets/base",
            "top": null,
            "grid_column": null,
            "overflow_y": null,
            "overflow_x": null,
            "grid_auto_flow": null,
            "grid_area": null,
            "grid_template_columns": null,
            "flex": null,
            "_model_name": "LayoutModel",
            "justify_items": null,
            "grid_row": null,
            "max_height": null,
            "align_content": null,
            "visibility": null,
            "align_self": null,
            "height": null,
            "min_height": null,
            "padding": null,
            "grid_auto_rows": null,
            "grid_gap": null,
            "max_width": null,
            "order": null,
            "_view_module_version": "1.2.0",
            "grid_template_areas": null,
            "object_position": null,
            "object_fit": null,
            "grid_auto_columns": null,
            "margin": null,
            "display": null,
            "left": null
          }
        },
        "eb8622f85df841cfa00228b5cef9ba59": {
          "model_module": "@jupyter-widgets/controls",
          "model_name": "DescriptionStyleModel",
          "state": {
            "_view_name": "StyleView",
            "_model_name": "DescriptionStyleModel",
            "description_width": "",
            "_view_module": "@jupyter-widgets/base",
            "_model_module_version": "1.5.0",
            "_view_count": null,
            "_view_module_version": "1.2.0",
            "_model_module": "@jupyter-widgets/controls"
          }
        },
        "85b4f83b500c4efd98babf47ffb6b8e0": {
          "model_module": "@jupyter-widgets/base",
          "model_name": "LayoutModel",
          "state": {
            "_view_name": "LayoutView",
            "grid_template_rows": null,
            "right": null,
            "justify_content": null,
            "_view_module": "@jupyter-widgets/base",
            "overflow": null,
            "_model_module_version": "1.2.0",
            "_view_count": null,
            "flex_flow": null,
            "width": null,
            "min_width": null,
            "border": null,
            "align_items": null,
            "bottom": null,
            "_model_module": "@jupyter-widgets/base",
            "top": null,
            "grid_column": null,
            "overflow_y": null,
            "overflow_x": null,
            "grid_auto_flow": null,
            "grid_area": null,
            "grid_template_columns": null,
            "flex": null,
            "_model_name": "LayoutModel",
            "justify_items": null,
            "grid_row": null,
            "max_height": null,
            "align_content": null,
            "visibility": null,
            "align_self": null,
            "height": null,
            "min_height": null,
            "padding": null,
            "grid_auto_rows": null,
            "grid_gap": null,
            "max_width": null,
            "order": null,
            "_view_module_version": "1.2.0",
            "grid_template_areas": null,
            "object_position": null,
            "object_fit": null,
            "grid_auto_columns": null,
            "margin": null,
            "display": null,
            "left": null
          }
        }
      }
    }
  },
  "cells": [
    {
      "cell_type": "markdown",
      "metadata": {
        "id": "view-in-github",
        "colab_type": "text"
      },
      "source": [
        "<a href=\"https://colab.research.google.com/github/rajashekarv95/Autoencoders/blob/master/Unsupervised_Pretraining.ipynb\" target=\"_parent\"><img src=\"https://colab.research.google.com/assets/colab-badge.svg\" alt=\"Open In Colab\"/></a>"
      ]
    },
    {
      "cell_type": "code",
      "metadata": {
        "id": "UMeQdOm7pHnj",
        "colab_type": "code",
        "colab": {}
      },
      "source": [
        "import numpy as np\n",
        "\n",
        "from mpl_toolkits import mplot3d\n",
        "import matplotlib.pyplot as plt\n",
        "\n",
        "\n",
        "import torch\n",
        "import torchvision\n",
        "import torchvision.transforms as transforms\n",
        "import torch.nn as nn\n",
        "from torch.utils.data import DataLoader"
      ],
      "execution_count": 1,
      "outputs": []
    },
    {
      "cell_type": "code",
      "metadata": {
        "id": "DtMxOjt2CO-s",
        "colab_type": "code",
        "colab": {
          "base_uri": "https://localhost:8080/",
          "height": 34
        },
        "outputId": "df22fcfc-2d68-431b-e8d2-1bd2eb4a9ec7"
      },
      "source": [
        "device = torch.device('cuda' if torch.cuda.is_available() else 'cpu')\n",
        "device"
      ],
      "execution_count": 2,
      "outputs": [
        {
          "output_type": "execute_result",
          "data": {
            "text/plain": [
              "device(type='cuda')"
            ]
          },
          "metadata": {
            "tags": []
          },
          "execution_count": 2
        }
      ]
    },
    {
      "cell_type": "code",
      "metadata": {
        "id": "N9vbcnXxrWdy",
        "colab_type": "code",
        "colab": {
          "base_uri": "https://localhost:8080/",
          "height": 386,
          "referenced_widgets": [
            "8adb29d99c1545ea8e75b2ae9801b312",
            "d583af74ee434b4cb1f084e9607c893d",
            "fef88aab8b474e0590d25d90cb289e8f",
            "3fb7d1dae80a4e188c7027f81e2e2780",
            "0bbfbfed407849e4b30c3894cc15d1ce",
            "fc2aad036b084b68a84a51e87d44b99b",
            "7e03410749ac432283cf9a9dde8a8a55",
            "247c144e8135442caf57a0342e5c7c1f",
            "c7c075e5bb8a40a5be35352f684049e7",
            "b465fbcff4df486ba511cfd952ae9465",
            "1bd31998cde74b949fa6da304e872355",
            "5565c1a0ba664aea9add62ae58c1ff98",
            "aaabbd1765274bafa4e5fd04a0a2e338",
            "a95a698f19aa48c8a9da6e315b8b4b68",
            "22aff238769b415988dfa41ae35fdad7",
            "34a4124075e44a73bd4e891d5bf8cfdd",
            "c120729f4cc3438abea60246e43558c5",
            "6fa42ce73b874e0cb2adaa52496944e6",
            "d9bd56b9e44240bfaf336bcd86d910f5",
            "4f6c9f79e009470ca6bddd98c3542bef",
            "e1949a0f54fe48d397859aa058f0cb54",
            "9298bd4c9c4446fb879f8ac053699a44",
            "98f01cafcd20448d8f385f745825566e",
            "b8755955259246c4b2952ee8f4f29d2f",
            "0512d0f97cb14eef8d5b8efea66c32d3",
            "c1bb14eb333f4c43910742230a459afe",
            "88a5b07a689443239b2d953d829eb195",
            "cd06d41cfea342319e97fdffbba42f4e",
            "0417053a730545d29c1c2ef2d01dcb91",
            "2dbb9f6d6a0443d78186ca14aae03e0a",
            "eb8622f85df841cfa00228b5cef9ba59",
            "85b4f83b500c4efd98babf47ffb6b8e0"
          ]
        },
        "outputId": "e5e73be9-36de-4066-b1ad-f4fb3d67ae51"
      },
      "source": [
        "train_set = torchvision.datasets.FashionMNIST(\n",
        "    root = './data/FashionMNIST',\n",
        "    train = True,\n",
        "    download = True,\n",
        "    transform = transforms.Compose([\n",
        "        transforms.ToTensor()                                 \n",
        "    ])\n",
        ")"
      ],
      "execution_count": 3,
      "outputs": [
        {
          "output_type": "stream",
          "text": [
            "Downloading http://fashion-mnist.s3-website.eu-central-1.amazonaws.com/train-images-idx3-ubyte.gz to ./data/FashionMNIST/FashionMNIST/raw/train-images-idx3-ubyte.gz\n"
          ],
          "name": "stdout"
        },
        {
          "output_type": "display_data",
          "data": {
            "application/vnd.jupyter.widget-view+json": {
              "model_id": "8adb29d99c1545ea8e75b2ae9801b312",
              "version_minor": 0,
              "version_major": 2
            },
            "text/plain": [
              "HBox(children=(FloatProgress(value=1.0, bar_style='info', max=1.0), HTML(value='')))"
            ]
          },
          "metadata": {
            "tags": []
          }
        },
        {
          "output_type": "stream",
          "text": [
            "Extracting ./data/FashionMNIST/FashionMNIST/raw/train-images-idx3-ubyte.gz to ./data/FashionMNIST/FashionMNIST/raw\n",
            "Downloading http://fashion-mnist.s3-website.eu-central-1.amazonaws.com/train-labels-idx1-ubyte.gz to ./data/FashionMNIST/FashionMNIST/raw/train-labels-idx1-ubyte.gz\n"
          ],
          "name": "stdout"
        },
        {
          "output_type": "display_data",
          "data": {
            "application/vnd.jupyter.widget-view+json": {
              "model_id": "c7c075e5bb8a40a5be35352f684049e7",
              "version_minor": 0,
              "version_major": 2
            },
            "text/plain": [
              "HBox(children=(FloatProgress(value=1.0, bar_style='info', max=1.0), HTML(value='')))"
            ]
          },
          "metadata": {
            "tags": []
          }
        },
        {
          "output_type": "stream",
          "text": [
            "Extracting ./data/FashionMNIST/FashionMNIST/raw/train-labels-idx1-ubyte.gz to ./data/FashionMNIST/FashionMNIST/raw\n",
            "Downloading http://fashion-mnist.s3-website.eu-central-1.amazonaws.com/t10k-images-idx3-ubyte.gz to ./data/FashionMNIST/FashionMNIST/raw/t10k-images-idx3-ubyte.gz\n",
            "\n"
          ],
          "name": "stdout"
        },
        {
          "output_type": "display_data",
          "data": {
            "application/vnd.jupyter.widget-view+json": {
              "model_id": "c120729f4cc3438abea60246e43558c5",
              "version_minor": 0,
              "version_major": 2
            },
            "text/plain": [
              "HBox(children=(FloatProgress(value=1.0, bar_style='info', max=1.0), HTML(value='')))"
            ]
          },
          "metadata": {
            "tags": []
          }
        },
        {
          "output_type": "stream",
          "text": [
            "Extracting ./data/FashionMNIST/FashionMNIST/raw/t10k-images-idx3-ubyte.gz to ./data/FashionMNIST/FashionMNIST/raw\n",
            "Downloading http://fashion-mnist.s3-website.eu-central-1.amazonaws.com/t10k-labels-idx1-ubyte.gz to ./data/FashionMNIST/FashionMNIST/raw/t10k-labels-idx1-ubyte.gz\n"
          ],
          "name": "stdout"
        },
        {
          "output_type": "display_data",
          "data": {
            "application/vnd.jupyter.widget-view+json": {
              "model_id": "0512d0f97cb14eef8d5b8efea66c32d3",
              "version_minor": 0,
              "version_major": 2
            },
            "text/plain": [
              "HBox(children=(FloatProgress(value=1.0, bar_style='info', max=1.0), HTML(value='')))"
            ]
          },
          "metadata": {
            "tags": []
          }
        },
        {
          "output_type": "stream",
          "text": [
            "Extracting ./data/FashionMNIST/FashionMNIST/raw/t10k-labels-idx1-ubyte.gz to ./data/FashionMNIST/FashionMNIST/raw\n",
            "Processing...\n",
            "Done!\n"
          ],
          "name": "stdout"
        },
        {
          "output_type": "stream",
          "text": [
            "/usr/local/lib/python3.6/dist-packages/torchvision/datasets/mnist.py:469: UserWarning: The given NumPy array is not writeable, and PyTorch does not support non-writeable tensors. This means you can write to the underlying (supposedly non-writeable) NumPy array using the tensor. You may want to copy the array to protect its data or make it writeable before converting it to a tensor. This type of warning will be suppressed for the rest of this program. (Triggered internally at  /pytorch/torch/csrc/utils/tensor_numpy.cpp:141.)\n",
            "  return torch.from_numpy(parsed.astype(m[2], copy=False)).view(*s)\n"
          ],
          "name": "stderr"
        }
      ]
    },
    {
      "cell_type": "code",
      "metadata": {
        "id": "Z69uPsOOe6pK",
        "colab_type": "code",
        "colab": {}
      },
      "source": [
        "test_set = torchvision.datasets.FashionMNIST(\n",
        "    root = './data/FashionMNIST',\n",
        "    train = False,\n",
        "    download = True,\n",
        "    transform = transforms.Compose([\n",
        "        transforms.ToTensor()                                 \n",
        "    ])\n",
        ")"
      ],
      "execution_count": 37,
      "outputs": []
    },
    {
      "cell_type": "code",
      "metadata": {
        "id": "2D1viuqSiLOP",
        "colab_type": "code",
        "colab": {
          "base_uri": "https://localhost:8080/",
          "height": 153
        },
        "outputId": "f85a1cb1-0d8d-496d-d4f5-46e179fc31d7"
      },
      "source": [
        "test_set"
      ],
      "execution_count": 38,
      "outputs": [
        {
          "output_type": "execute_result",
          "data": {
            "text/plain": [
              "Dataset FashionMNIST\n",
              "    Number of datapoints: 10000\n",
              "    Root location: ./data/FashionMNIST\n",
              "    Split: Test\n",
              "    StandardTransform\n",
              "Transform: Compose(\n",
              "               ToTensor()\n",
              "           )"
            ]
          },
          "metadata": {
            "tags": []
          },
          "execution_count": 38
        }
      ]
    },
    {
      "cell_type": "code",
      "metadata": {
        "id": "tiucGSthsdIg",
        "colab_type": "code",
        "colab": {}
      },
      "source": [
        "dataloader = DataLoader(train_set, batch_size=50, shuffle=True)\n",
        "dataloader_test = DataLoader(test_set, batch_size=10000, shuffle=True)\n"
      ],
      "execution_count": 6,
      "outputs": []
    },
    {
      "cell_type": "code",
      "metadata": {
        "id": "1-FUN_E-sIfr",
        "colab_type": "code",
        "colab": {
          "base_uri": "https://localhost:8080/",
          "height": 153
        },
        "outputId": "0bab6fe1-433b-486c-c7a5-537c6059b91c"
      },
      "source": [
        "for data in dataloader:\n",
        "  print(data[0].shape)\n",
        "  print(torch.reshape(data[0], (-1, 784)))\n",
        "  trial = torch.reshape(data[0], (-1, 784))\n",
        "  break"
      ],
      "execution_count": 8,
      "outputs": [
        {
          "output_type": "stream",
          "text": [
            "torch.Size([50, 1, 28, 28])\n",
            "tensor([[0., 0., 0.,  ..., 0., 0., 0.],\n",
            "        [0., 0., 0.,  ..., 0., 0., 0.],\n",
            "        [0., 0., 0.,  ..., 0., 0., 0.],\n",
            "        ...,\n",
            "        [0., 0., 0.,  ..., 0., 0., 0.],\n",
            "        [0., 0., 0.,  ..., 0., 0., 0.],\n",
            "        [0., 0., 0.,  ..., 0., 0., 0.]])\n"
          ],
          "name": "stdout"
        }
      ]
    },
    {
      "cell_type": "code",
      "metadata": {
        "id": "t2LbHiCUspfn",
        "colab_type": "code",
        "colab": {
          "base_uri": "https://localhost:8080/",
          "height": 34
        },
        "outputId": "3d82392d-f567-4d1e-b1ed-3b006be7d341"
      },
      "source": [
        "trial.shape"
      ],
      "execution_count": 9,
      "outputs": [
        {
          "output_type": "execute_result",
          "data": {
            "text/plain": [
              "torch.Size([50, 784])"
            ]
          },
          "metadata": {
            "tags": []
          },
          "execution_count": 9
        }
      ]
    },
    {
      "cell_type": "code",
      "metadata": {
        "id": "GHiZcs7e709A",
        "colab_type": "code",
        "colab": {}
      },
      "source": [
        "def plot_image(image):\n",
        "  plt.imshow(image, cmap='Greys',  interpolation='nearest')"
      ],
      "execution_count": 10,
      "outputs": []
    },
    {
      "cell_type": "code",
      "metadata": {
        "id": "94nub2KP8YA2",
        "colab_type": "code",
        "colab": {
          "base_uri": "https://localhost:8080/",
          "height": 265
        },
        "outputId": "948b1ab9-3371-4f4f-ec32-93b9a2fc44cf"
      },
      "source": [
        "plot_image(torch.reshape(trial[6,:], (28,28)))"
      ],
      "execution_count": 11,
      "outputs": [
        {
          "output_type": "display_data",
          "data": {
            "image/png": "[encoded data removed]",
            "text/plain": [
              "<Figure size 432x288 with 1 Axes>"
            ]
          },
          "metadata": {
            "tags": [],
            "needs_background": "light"
          }
        }
      ]
    },
    {
      "cell_type": "code",
      "metadata": {
        "id": "7E5lD0oP8vvY",
        "colab_type": "code",
        "colab": {}
      },
      "source": [
        "class autoencoder(nn.Module):\n",
        "    def __init__(self, n_x):\n",
        "        super(autoencoder, self).__init__()\n",
        "        self.encoder = nn.Sequential(\n",
        "            nn.Linear(n_x, 300),\n",
        "            nn.LeakyReLU(),\n",
        "            nn.Linear(300, 100),\n",
        "            nn.LeakyReLU(),\n",
        "            nn.Linear(100, 50),\n",
        "            nn.LeakyReLU(),\n",
        "            nn.Linear(50, 25),\n",
        "            nn.LeakyReLU()\n",
        "            )\n",
        "        self.decoder = nn.Sequential(\n",
        "            nn.Linear(25, 50),\n",
        "            nn.LeakyReLU(),\n",
        "            nn.Linear(50, 100),\n",
        "            nn.LeakyReLU(),\n",
        "            nn.Linear(100, 300),\n",
        "            nn.LeakyReLU(),\n",
        "            nn.Linear(300, n_x),\n",
        "            nn.Sigmoid()\n",
        "            )\n",
        "\n",
        "    def forward(self, x):\n",
        "        x = self.encoder(x)\n",
        "        x = self.decoder(x)\n",
        "        return x"
      ],
      "execution_count": 12,
      "outputs": []
    },
    {
      "cell_type": "code",
      "metadata": {
        "id": "Evrsg4q__C7C",
        "colab_type": "code",
        "colab": {}
      },
      "source": [
        "batch_size = 500\n",
        "learning_rate = 0.001\n",
        "n_x = 784\n",
        "\n",
        "model = autoencoder(n_x).to(device)\n",
        "criterion = torch.nn.BCELoss()\n",
        "optimizer = torch.optim.Adam(model.parameters(), lr=learning_rate)"
      ],
      "execution_count": 52,
      "outputs": []
    },
    {
      "cell_type": "code",
      "metadata": {
        "id": "bZQLMp5W_oyA",
        "colab_type": "code",
        "colab": {
          "base_uri": "https://localhost:8080/",
          "height": 102
        },
        "outputId": "af875f10-698e-41c1-c967-637958ab976a"
      },
      "source": [
        "num_epochs = 5\n",
        "loss_list = []\n",
        "for epoch in range(num_epochs):\n",
        "  for mini_batch in dataloader:\n",
        "    flattened_mini_batch = torch.reshape(mini_batch[0], (-1, 784)).to(device)\n",
        "    #Forward\n",
        "    output = model(flattened_mini_batch)\n",
        "\n",
        "    #Loss\n",
        "    loss = criterion(output, flattened_mini_batch)\n",
        "\n",
        "    #Backward\n",
        "    optimizer.zero_grad()\n",
        "    loss.backward()\n",
        "    optimizer.step()\n",
        "\n",
        "    #Store loss for visualization\n",
        "    loss_list.append(loss)\n",
        "\n",
        "  for data in dataloader_test:\n",
        "    flattened_mini_batch = torch.reshape(data[0], (-1, 784)).to(device)\n",
        "    output = model(flattened_mini_batch)\n",
        "    break\n",
        "\n",
        "  loss_validation = criterion(output, flattened_mini_batch)\n",
        "  print('epoch [{}/{}], loss:{:.4f}, loss_validation:{:.4f}'\n",
        "          .format(epoch + 1, num_epochs, loss, loss_validation))\n",
        "  # print('epoch [{}/{}], loss:{:.4f}'\n",
        "  #         .format(epoch + 1, num_epochs, loss))\n"
      ],
      "execution_count": 53,
      "outputs": [
        {
          "output_type": "stream",
          "text": [
            "epoch [1/5], loss:0.2934, loss_validation:0.3088\n",
            "epoch [2/5], loss:0.3012, loss_validation:0.2958\n",
            "epoch [3/5], loss:0.2948, loss_validation:0.2914\n",
            "epoch [4/5], loss:0.2861, loss_validation:0.2882\n",
            "epoch [5/5], loss:0.2956, loss_validation:0.2857\n"
          ],
          "name": "stdout"
        }
      ]
    },
    {
      "cell_type": "code",
      "metadata": {
        "id": "wBWNOLN9MOsu",
        "colab_type": "code",
        "colab": {
          "base_uri": "https://localhost:8080/",
          "height": 282
        },
        "outputId": "f596e02e-d56b-4d42-9549-c20cf8c6685c"
      },
      "source": [
        "plt.plot(np.array(loss_list), 'r')"
      ],
      "execution_count": 54,
      "outputs": [
        {
          "output_type": "execute_result",
          "data": {
            "text/plain": [
              "[<matplotlib.lines.Line2D at 0x7fe0aeaff710>]"
            ]
          },
          "metadata": {
            "tags": []
          },
          "execution_count": 54
        },
        {
          "output_type": "display_data",
          "data": {
            "image/png": "[encoded data removed]",
            "text/plain": [
              "<Figure size 432x288 with 1 Axes>"
            ]
          },
          "metadata": {
            "tags": [],
            "needs_background": "light"
          }
        }
      ]
    },
    {
      "cell_type": "code",
      "metadata": {
        "id": "_988pSIIFTfN",
        "colab_type": "code",
        "colab": {}
      },
      "source": [
        "i = 8"
      ],
      "execution_count": 58,
      "outputs": []
    },
    {
      "cell_type": "code",
      "metadata": {
        "id": "XuiFASNaCzG1",
        "colab_type": "code",
        "colab": {}
      },
      "source": [
        "test = model(torch.reshape(trial[i], (-1, 784)).to(device))"
      ],
      "execution_count": 59,
      "outputs": []
    },
    {
      "cell_type": "code",
      "metadata": {
        "id": "bCdi1DLMFD4N",
        "colab_type": "code",
        "colab": {
          "base_uri": "https://localhost:8080/",
          "height": 265
        },
        "outputId": "b7e7a5c0-c8b8-46a3-9d51-ecdd0b00e539"
      },
      "source": [
        "plot_image((torch.reshape(trial[i], (28,28))))"
      ],
      "execution_count": 60,
      "outputs": [
        {
          "output_type": "display_data",
          "data": {
            "image/png": "[encoded data removed]",
            "text/plain": [
              "<Figure size 432x288 with 1 Axes>"
            ]
          },
          "metadata": {
            "tags": [],
            "needs_background": "light"
          }
        }
      ]
    },
    {
      "cell_type": "code",
      "metadata": {
        "id": "luW2bjt_Ehyd",
        "colab_type": "code",
        "colab": {
          "base_uri": "https://localhost:8080/",
          "height": 265
        },
        "outputId": "ece3da84-741b-4ba7-920b-8db7358cfa01"
      },
      "source": [
        "plot_image((torch.reshape(test, (28,28))).cpu().detach().numpy())"
      ],
      "execution_count": 61,
      "outputs": [
        {
          "output_type": "display_data",
          "data": {
            "image/png": "[encoded data removed]",
            "text/plain": [
              "<Figure size 432x288 with 1 Axes>"
            ]
          },
          "metadata": {
            "tags": [],
            "needs_background": "light"
          }
        }
      ]
    },
    {
      "cell_type": "code",
      "metadata": {
        "id": "Q0wFeAd3EvuJ",
        "colab_type": "code",
        "colab": {
          "base_uri": "https://localhost:8080/",
          "height": 119
        },
        "outputId": "857aa550-7a6a-4615-dfc4-08e7b9dd53ec"
      },
      "source": [
        "model.encoder(torch.reshape(trial[i], (-1, 784)).to(device))"
      ],
      "execution_count": 20,
      "outputs": [
        {
          "output_type": "execute_result",
          "data": {
            "text/plain": [
              "tensor([[-2.8383e-02, -2.2689e-02,  4.2258e+00,  4.6544e+00,  6.5755e+00,\n",
              "          1.4002e+00, -3.7790e-02, -5.3036e-02, -3.7934e-02,  3.5496e+00,\n",
              "          1.2023e+01,  2.2671e+00,  4.2266e-01, -1.5837e-02,  4.8063e+00,\n",
              "          5.4221e+00,  3.1873e+00, -8.2801e-02,  4.7393e+00, -3.7629e-03,\n",
              "          5.4158e+00,  2.0521e+00,  1.4988e+00,  3.2075e+00,  5.0319e-01]],\n",
              "       device='cuda:0', grad_fn=<LeakyReluBackward0>)"
            ]
          },
          "metadata": {
            "tags": []
          },
          "execution_count": 20
        }
      ]
    },
    {
      "cell_type": "code",
      "metadata": {
        "id": "wvrAplwAHg3-",
        "colab_type": "code",
        "colab": {}
      },
      "source": [
        "# generate_input = torch.rand((1,25), device=device)\n",
        "generate_input = torch.FloatTensor(1,25).uniform_(-5, 5).to(device)"
      ],
      "execution_count": 21,
      "outputs": []
    },
    {
      "cell_type": "code",
      "metadata": {
        "id": "WuUN_j8kIIl1",
        "colab_type": "code",
        "colab": {
          "base_uri": "https://localhost:8080/",
          "height": 85
        },
        "outputId": "fe61beb8-2dcb-45c0-a043-5724726ceae8"
      },
      "source": [
        "generate_input"
      ],
      "execution_count": 22,
      "outputs": [
        {
          "output_type": "execute_result",
          "data": {
            "text/plain": [
              "tensor([[-1.9310,  2.7233, -2.9196, -0.0192, -1.1869, -4.7350,  4.4358, -4.7397,\n",
              "          4.3646, -3.9623,  2.1721,  0.6008, -2.1063, -1.0334,  2.2304,  3.3243,\n",
              "          2.6387, -2.9145,  0.0855, -4.8359,  4.0981, -3.8303, -0.7313, -4.5721,\n",
              "         -3.4939]], device='cuda:0')"
            ]
          },
          "metadata": {
            "tags": []
          },
          "execution_count": 22
        }
      ]
    },
    {
      "cell_type": "code",
      "metadata": {
        "id": "QY2mk3ckH1_G",
        "colab_type": "code",
        "colab": {}
      },
      "source": [
        "generate_output = model.decoder(generate_input)"
      ],
      "execution_count": 23,
      "outputs": []
    },
    {
      "cell_type": "code",
      "metadata": {
        "id": "VljOLE1EH9j8",
        "colab_type": "code",
        "colab": {
          "base_uri": "https://localhost:8080/",
          "height": 265
        },
        "outputId": "fa43cf51-d2fb-4d89-c354-46572cd43033"
      },
      "source": [
        "plot_image((torch.reshape(generate_output, (28,28))).cpu().detach().numpy())"
      ],
      "execution_count": 24,
      "outputs": [
        {
          "output_type": "display_data",
          "data": {
            "image/png": "[encoded data removed]",
            "text/plain": [
              "<Figure size 432x288 with 1 Axes>"
            ]
          },
          "metadata": {
            "tags": [],
            "needs_background": "light"
          }
        }
      ]
    },
    {
      "cell_type": "code",
      "metadata": {
        "id": "NJZ9X8FwIGKn",
        "colab_type": "code",
        "colab": {}
      },
      "source": [
        "for data in dataloader_test:\n",
        "  flattened_mini_batch = torch.reshape(data[0], (-1, 784)).to(device)\n",
        "  y_test = data[1]\n",
        "  encoder_output = model.encoder(flattened_mini_batch)\n",
        "  break"
      ],
      "execution_count": 43,
      "outputs": []
    },
    {
      "cell_type": "code",
      "metadata": {
        "id": "F70nv06ch9vX",
        "colab_type": "code",
        "colab": {
          "base_uri": "https://localhost:8080/",
          "height": 34
        },
        "outputId": "f3f9e727-e0aa-4c7a-df47-4d4ea328ac49"
      },
      "source": [
        "data[0].shape"
      ],
      "execution_count": 45,
      "outputs": [
        {
          "output_type": "execute_result",
          "data": {
            "text/plain": [
              "torch.Size([10000, 1, 28, 28])"
            ]
          },
          "metadata": {
            "tags": []
          },
          "execution_count": 45
        }
      ]
    },
    {
      "cell_type": "code",
      "metadata": {
        "id": "saAb6ogagPy0",
        "colab_type": "code",
        "colab": {}
      },
      "source": [
        "np.random.seed(42)\n",
        "\n",
        "from sklearn.manifold import TSNE\n",
        "\n",
        "tsne = TSNE()\n",
        "X_valid_2D = tsne.fit_transform(encoder_output.cpu().detach().numpy())\n",
        "X_valid_2D = (X_valid_2D - X_valid_2D.min()) / (X_valid_2D.max() - X_valid_2D.min())"
      ],
      "execution_count": 46,
      "outputs": []
    },
    {
      "cell_type": "code",
      "metadata": {
        "id": "AyJPYJTzgi4L",
        "colab_type": "code",
        "colab": {
          "base_uri": "https://localhost:8080/",
          "height": 248
        },
        "outputId": "8490b42c-7306-42eb-fcc6-ff93a5733d6c"
      },
      "source": [
        "plt.scatter(X_valid_2D[:, 0], X_valid_2D[:, 1], c=y_test, s=10, cmap=\"tab10\")\n",
        "plt.axis(\"off\")\n",
        "plt.show()"
      ],
      "execution_count": 47,
      "outputs": [
        {
          "output_type": "display_data",
          "data": {
            "image/png": "[encoded data removed]",
            "text/plain": [
              "<Figure size 432x288 with 1 Axes>"
            ]
          },
          "metadata": {
            "tags": [],
            "needs_background": "light"
          }
        }
      ]
    },
    {
      "cell_type": "code",
      "metadata": {
        "id": "ed4EH2qJm7b5",
        "colab_type": "code",
        "colab": {
          "base_uri": "https://localhost:8080/",
          "height": 1000
        },
        "outputId": "bc2f8760-6f8a-4544-979d-0eea1e46a989"
      },
      "source": [
        "for name, param in model.encoder.named_parameters():\n",
        "  print(name)\n",
        "  print(param)"
      ],
      "execution_count": 70,
      "outputs": [
        {
          "output_type": "stream",
          "text": [
            "0.weight\n",
            "Parameter containing:\n",
            "tensor([[-0.1175, -0.1698, -0.2464,  ..., -0.0797, -0.1187, -0.0300],\n",
            "        [ 0.0092,  0.0113, -0.0029,  ..., -0.1207, -0.1341, -0.0327],\n",
            "        [-0.0102, -0.0862, -0.0673,  ..., -0.0347,  0.0723, -0.0091],\n",
            "        ...,\n",
            "        [-0.0348, -0.1337, -0.1276,  ..., -0.1483,  0.0050, -0.0808],\n",
            "        [ 0.0209, -0.0109, -0.0383,  ..., -0.1251, -0.1094, -0.0761],\n",
            "        [ 0.0007, -0.0267, -0.0270,  ..., -0.1268,  0.0028,  0.0221]],\n",
            "       device='cuda:0', requires_grad=True)\n",
            "0.bias\n",
            "Parameter containing:\n",
            "tensor([-6.8531e-02,  1.5775e-01,  1.1165e-01,  1.2922e-01,  6.7912e-03,\n",
            "        -1.1727e-01,  8.5742e-02, -9.2399e-02,  1.2456e-01, -1.9333e-02,\n",
            "        -6.9285e-02,  1.6978e-01,  6.2172e-02,  6.3652e-02,  1.8741e-01,\n",
            "         4.0046e-01,  1.4091e-01, -4.7828e-02, -4.5897e-02,  2.0527e-02,\n",
            "         6.5827e-02,  4.2041e-02,  4.4947e-03,  2.0443e-01,  1.9063e-01,\n",
            "         2.4511e-02, -3.9686e-02,  8.8778e-02,  5.9035e-02,  1.8968e-01,\n",
            "         4.5447e-02,  1.6121e-01,  1.3726e-01,  5.5420e-02, -1.1287e-03,\n",
            "        -7.1655e-03, -9.7216e-02, -4.1250e-02,  2.9241e-02, -2.1260e-02,\n",
            "        -4.3463e-02,  1.6408e-01, -5.9304e-02,  2.4880e-02,  1.1248e-01,\n",
            "        -4.7045e-02,  4.9250e-02, -2.4039e-02,  6.6535e-02,  2.1392e-01,\n",
            "         3.7060e-01, -1.5024e-01,  2.0159e-01,  4.3255e-02,  7.7166e-02,\n",
            "        -1.4332e-01, -3.2489e-02,  9.5676e-03,  6.5172e-02,  4.5729e-02,\n",
            "         3.2266e-01,  1.4740e-01, -3.2073e-02,  1.6737e-01,  1.0443e-02,\n",
            "         3.5531e-02,  1.4628e-01,  2.3299e-01,  1.1481e-01, -2.8650e-02,\n",
            "         7.4071e-02, -5.4733e-02,  1.1190e-01,  4.3911e-02,  5.7184e-01,\n",
            "         2.8454e-01, -4.1702e-02,  1.0468e-01,  3.8112e-01,  1.0558e-01,\n",
            "         1.0198e-01,  1.3946e-01,  1.4716e-01, -1.1716e-01,  1.4724e-01,\n",
            "         9.1126e-02,  1.0467e-01,  2.1251e-04,  8.6065e-02,  5.9924e-02,\n",
            "        -2.5900e-02,  1.1228e-02, -5.6498e-02, -1.5349e-02, -1.0448e-01,\n",
            "        -1.3645e-02, -1.1012e-01, -3.6562e-02, -4.0193e-04, -1.2482e-01,\n",
            "         5.3075e-02,  1.1424e-01, -4.8391e-02,  6.5785e-01, -4.1744e-02,\n",
            "         7.8529e-02, -2.9221e-02, -3.7971e-02,  1.0769e-01,  8.5756e-02,\n",
            "         7.2426e-02, -7.8964e-02,  9.0119e-02,  8.3814e-02, -7.4404e-02,\n",
            "        -1.9296e-01,  1.6784e-01,  1.8721e-03,  1.1395e-01, -4.7963e-02,\n",
            "         7.1218e-02,  6.7077e-02,  7.4943e-02,  7.6853e-02,  1.0633e-01,\n",
            "         1.1541e-01, -1.3759e-01,  9.0101e-02, -4.5793e-02, -9.6905e-03,\n",
            "         1.8341e-01,  3.6635e-02, -1.1123e-01, -1.0913e-01,  8.3053e-02,\n",
            "        -8.0488e-02,  6.5322e-02,  1.0439e-01, -9.0107e-02,  1.1548e-01,\n",
            "         1.9962e-01, -8.1121e-02,  1.0780e-01,  8.2440e-02,  9.3187e-02,\n",
            "         3.0809e-02, -7.2676e-02, -8.7678e-02,  1.1300e-01,  1.2058e-01,\n",
            "         4.3555e-02, -1.1289e-01, -3.2300e-02,  9.1522e-03, -9.9936e-02,\n",
            "         1.2484e-01,  3.5621e-02, -9.9196e-02,  1.7281e-01,  7.6542e-02,\n",
            "         9.6109e-02,  8.6716e-02, -1.2162e-01,  1.4037e-01,  5.5089e-02,\n",
            "         9.2171e-02, -1.0330e-01, -6.2176e-02, -3.9046e-02,  1.5703e-01,\n",
            "         7.3008e-02,  2.9677e-01,  7.7935e-02, -2.5425e-02,  6.7116e-03,\n",
            "         1.1248e-01, -8.6675e-02, -1.1696e-01, -1.5061e-01,  3.1804e-02,\n",
            "         2.6778e-01,  2.4787e-01,  1.3626e-01, -1.0023e-02,  1.0712e-01,\n",
            "         1.5112e-01, -3.8229e-02, -3.0627e-03,  3.0315e-02, -1.0588e-01,\n",
            "         6.2911e-02, -1.7063e-02,  4.5300e-02, -3.5515e-03,  2.2836e-01,\n",
            "         1.6010e-01,  1.7396e-02,  1.7538e-01, -8.6867e-02, -7.7030e-02,\n",
            "         1.9863e-01,  1.3483e-01,  1.7450e-01, -1.8867e-01, -8.2148e-02,\n",
            "         1.2815e-01,  4.3962e-02, -4.2866e-02,  1.1903e-02,  1.9148e-01,\n",
            "        -8.9529e-02,  5.3149e-02,  1.4035e-02, -4.9328e-02,  2.7540e-02,\n",
            "         1.3541e-01, -7.5822e-02, -5.3389e-02,  2.8991e-01, -3.7746e-02,\n",
            "         8.3225e-02,  1.1453e-01,  1.0886e-01,  4.3540e-01,  2.2309e-01,\n",
            "         6.7668e-02,  3.8206e-03, -7.5838e-02,  1.5129e-02,  1.6294e-01,\n",
            "         1.5228e-01, -1.1082e-01, -7.4747e-02,  8.5092e-02,  1.1843e-01,\n",
            "         6.5284e-03,  1.1793e-01, -4.4721e-02,  1.1894e-01, -7.3915e-02,\n",
            "        -7.4469e-02,  1.5660e-01, -5.1494e-03,  2.2662e-01,  1.3991e-02,\n",
            "         2.2765e-02, -1.0232e-01,  5.7900e-02,  9.2514e-02, -6.3326e-02,\n",
            "        -2.4906e-02,  6.3470e-02, -4.3415e-02,  4.0154e-02, -5.9776e-02,\n",
            "         1.3222e-01,  1.3546e-01,  2.3326e-01,  4.2894e-02,  1.0894e-01,\n",
            "         6.3265e-03,  2.0633e-02,  1.2494e-02, -2.8622e-02,  1.3254e-01,\n",
            "         5.0695e-02, -1.0345e-01,  1.8792e-01, -8.3991e-02,  2.4789e-02,\n",
            "         8.4742e-03,  7.2868e-02,  2.2015e-02,  1.8731e-01, -8.2922e-02,\n",
            "         2.1129e-01,  4.1980e-02, -4.2933e-02,  3.2208e-01,  8.0398e-02,\n",
            "        -2.6881e-02,  1.2581e-01,  1.4961e-02,  3.6709e-02,  3.7313e-02,\n",
            "        -1.3720e-01,  2.9423e-02,  5.0997e-02,  1.3802e-02,  7.5587e-02,\n",
            "         1.7111e-01,  7.9397e-02,  2.6092e-01,  5.7656e-02,  5.2959e-02,\n",
            "        -2.1101e-02,  1.1411e-01,  7.6380e-02, -5.6591e-02,  2.3017e-01],\n",
            "       device='cuda:0', requires_grad=True)\n",
            "2.weight\n",
            "Parameter containing:\n",
            "tensor([[ 0.0098,  0.0867, -0.0086,  ...,  0.2323,  0.0188, -0.0325],\n",
            "        [ 0.0189, -0.0888,  0.0104,  ...,  0.0195, -0.0668, -0.0290],\n",
            "        [-0.0467,  0.4290,  0.0470,  ..., -0.0415,  0.0497, -0.1625],\n",
            "        ...,\n",
            "        [ 0.0357, -0.0184, -0.0015,  ...,  0.1739, -0.0268, -0.0515],\n",
            "        [ 0.0297, -0.0118,  0.0819,  ...,  0.1277,  0.0825,  0.1269],\n",
            "        [-0.0590, -0.1668, -0.0490,  ...,  0.1666, -0.0099,  0.1828]],\n",
            "       device='cuda:0', requires_grad=True)\n",
            "2.bias\n",
            "Parameter containing:\n",
            "tensor([-0.0214,  0.0468,  0.1176,  0.1738,  0.0818,  0.0024, -0.0738, -0.1374,\n",
            "         0.0121, -0.2060, -0.0377, -0.0374,  0.0683, -0.0700, -0.0197,  0.1161,\n",
            "         0.1534,  0.0528, -0.1346, -0.0083,  0.1403, -0.0426,  0.1320, -0.0447,\n",
            "         0.1480,  0.0987,  0.0753,  0.0975,  0.0465,  0.0229,  0.1507,  0.0314,\n",
            "         0.0057,  0.0234,  0.0102,  0.0545,  0.0970, -0.0485,  0.0865,  0.1079,\n",
            "         0.1553, -0.0433,  0.0188,  0.0332, -0.0473,  0.1092, -0.0844, -0.0659,\n",
            "         0.0251,  0.0418,  0.1200,  0.0083, -0.0010, -0.0200,  0.1332, -0.0197,\n",
            "         0.0599, -0.0047, -0.0655, -0.0045,  0.0746,  0.0627, -0.0703, -0.0474,\n",
            "         0.0056,  0.1829,  0.0383, -0.0217,  0.0449,  0.0557,  0.0311,  0.0582,\n",
            "        -0.0438,  0.0990,  0.0030,  0.0045,  0.0204, -0.0926,  0.0953,  0.0407,\n",
            "         0.0803,  0.1923,  0.0037,  0.3165, -0.0597,  0.0191,  0.1235,  0.1276,\n",
            "        -0.1195,  0.0170,  0.1374, -0.0681, -0.1054, -0.0305,  0.0822,  0.2078,\n",
            "         0.0943,  0.0660,  0.1415, -0.0596], device='cuda:0',\n",
            "       requires_grad=True)\n",
            "4.weight\n",
            "Parameter containing:\n",
            "tensor([[-1.6079e-02, -1.2023e-02,  5.6005e-02,  ..., -9.4074e-02,\n",
            "         -1.5191e-01, -2.0371e-01],\n",
            "        [ 5.8514e-02, -2.5054e-02,  3.9693e-01,  ..., -4.3621e-02,\n",
            "          1.0279e-01,  8.5927e-02],\n",
            "        [ 5.5752e-02,  2.6287e-05,  4.3679e-01,  ...,  6.2066e-03,\n",
            "          1.4281e-01, -4.0127e-02],\n",
            "        ...,\n",
            "        [-3.1369e-02, -7.6085e-03, -1.0316e-01,  ..., -4.9615e-02,\n",
            "         -1.1901e-01, -7.8577e-02],\n",
            "        [-3.4922e-02,  6.1473e-02, -3.3235e-02,  ..., -6.3542e-03,\n",
            "          1.0035e-01,  8.4766e-02],\n",
            "        [ 1.1078e-01,  4.3761e-02,  1.7438e-01,  ..., -5.2796e-02,\n",
            "          1.5268e-01, -1.1183e-01]], device='cuda:0', requires_grad=True)\n",
            "4.bias\n",
            "Parameter containing:\n",
            "tensor([-0.2202,  0.0857, -0.1217, -0.1349,  0.0318,  0.0609,  0.0949,  0.0326,\n",
            "         0.1140,  0.0808, -0.1307,  0.0346,  0.1191,  0.0360, -0.0144,  0.0424,\n",
            "        -0.1395, -0.1337,  0.0062, -0.1273, -0.0607,  0.1403, -0.0780, -0.0567,\n",
            "        -0.1357,  0.1996, -0.0511,  0.1137,  0.3052, -0.0167,  0.0773,  0.0542,\n",
            "        -0.0571,  0.1444, -0.0034,  0.0547, -0.0046, -0.0232, -0.0450, -0.1003,\n",
            "         0.0086,  0.1025,  0.0274,  0.0488, -0.0347,  0.0164,  0.0367, -0.0779,\n",
            "         0.0313,  0.0043], device='cuda:0', requires_grad=True)\n",
            "6.weight\n",
            "Parameter containing:\n",
            "tensor([[ 0.0915, -0.1197,  0.1491,  ..., -0.0228, -0.1415, -0.1525],\n",
            "        [-0.0670,  0.1837,  0.1187,  ...,  0.1264, -0.0548,  0.0053],\n",
            "        [-0.1172,  0.0623, -0.0553,  ...,  0.0289, -0.0674, -0.0953],\n",
            "        ...,\n",
            "        [ 0.0690, -0.0282, -0.1312,  ...,  0.0253,  0.0915,  0.0330],\n",
            "        [ 0.0159, -0.0763,  0.0417,  ..., -0.0112,  0.0114, -0.0625],\n",
            "        [-0.0954,  0.0427,  0.0470,  ..., -0.1271,  0.0379,  0.0300]],\n",
            "       device='cuda:0', requires_grad=True)\n",
            "6.bias\n",
            "Parameter containing:\n",
            "tensor([-0.1102, -0.1368, -0.1041,  0.0605,  0.0844,  0.0453,  0.2431,  0.0329,\n",
            "         0.1142,  0.0186,  0.0406,  0.0567,  0.0265, -0.2196,  0.1579,  0.0344,\n",
            "         0.0792,  0.0254,  0.0686, -0.1062,  0.1291, -0.0563, -0.0205, -0.1017,\n",
            "        -0.0843], device='cuda:0', requires_grad=True)\n"
          ],
          "name": "stdout"
        }
      ]
    },
    {
      "cell_type": "code",
      "metadata": {
        "id": "DJfR-ZvJqC8M",
        "colab_type": "code",
        "colab": {}
      },
      "source": [
        "class clf_model(nn.Module):\n",
        "    def __init__(self, n_x):\n",
        "        super(clf_model, self).__init__()\n",
        "        self.encoder = nn.Sequential(\n",
        "            nn.Linear(n_x, 300),\n",
        "            nn.LeakyReLU(),\n",
        "            nn.Linear(300, 100),\n",
        "            nn.LeakyReLU(),\n",
        "            nn.Linear(100, 50),\n",
        "            nn.LeakyReLU(),\n",
        "            nn.Linear(50, 25),\n",
        "            nn.LeakyReLU()\n",
        "            )\n",
        "        self.clf = nn.Sequential(\n",
        "            nn.Linear(25, 10)\n",
        "            )\n",
        "\n",
        "    def forward(self, x):\n",
        "        x = self.encoder(x)\n",
        "        x = self.clf(x)\n",
        "        return x"
      ],
      "execution_count": 71,
      "outputs": []
    },
    {
      "cell_type": "code",
      "metadata": {
        "id": "f64dSeYVq9Fr",
        "colab_type": "code",
        "colab": {}
      },
      "source": [
        "model_clf = clf_model(n_x).to(device)"
      ],
      "execution_count": 80,
      "outputs": []
    },
    {
      "cell_type": "code",
      "metadata": {
        "id": "WLTfwN3grSS-",
        "colab_type": "code",
        "colab": {
          "base_uri": "https://localhost:8080/",
          "height": 272
        },
        "outputId": "aefd05c3-5fe9-49dd-f56a-55a6800d3082"
      },
      "source": [
        "model_clf"
      ],
      "execution_count": 81,
      "outputs": [
        {
          "output_type": "execute_result",
          "data": {
            "text/plain": [
              "clf_model(\n",
              "  (encoder): Sequential(\n",
              "    (0): Linear(in_features=784, out_features=300, bias=True)\n",
              "    (1): LeakyReLU(negative_slope=0.01)\n",
              "    (2): Linear(in_features=300, out_features=100, bias=True)\n",
              "    (3): LeakyReLU(negative_slope=0.01)\n",
              "    (4): Linear(in_features=100, out_features=50, bias=True)\n",
              "    (5): LeakyReLU(negative_slope=0.01)\n",
              "    (6): Linear(in_features=50, out_features=25, bias=True)\n",
              "    (7): LeakyReLU(negative_slope=0.01)\n",
              "  )\n",
              "  (clf): Sequential(\n",
              "    (0): Linear(in_features=25, out_features=10, bias=True)\n",
              "  )\n",
              ")"
            ]
          },
          "metadata": {
            "tags": []
          },
          "execution_count": 81
        }
      ]
    },
    {
      "cell_type": "code",
      "metadata": {
        "id": "aIIoQDizrVos",
        "colab_type": "code",
        "colab": {
          "base_uri": "https://localhost:8080/",
          "height": 34
        },
        "outputId": "a5412349-dc5f-4aa8-b1a5-27e5247f3f98"
      },
      "source": [
        "model_clf.encoder.load_state_dict(model.encoder.state_dict())"
      ],
      "execution_count": 82,
      "outputs": [
        {
          "output_type": "execute_result",
          "data": {
            "text/plain": [
              "<All keys matched successfully>"
            ]
          },
          "metadata": {
            "tags": []
          },
          "execution_count": 82
        }
      ]
    },
    {
      "cell_type": "code",
      "metadata": {
        "id": "vVpvaCSIrggd",
        "colab_type": "code",
        "colab": {}
      },
      "source": [
        "for param in model_clf.encoder.parameters():\n",
        "    param.requires_grad = False"
      ],
      "execution_count": 83,
      "outputs": []
    },
    {
      "cell_type": "code",
      "metadata": {
        "id": "B5Hqzv3frQQk",
        "colab_type": "code",
        "colab": {}
      },
      "source": [
        "criterion_clf = torch.nn.CrossEntropyLoss()\n",
        "optimizer = torch.optim.Adam(model_clf.parameters(), lr=learning_rate)"
      ],
      "execution_count": 84,
      "outputs": []
    },
    {
      "cell_type": "code",
      "metadata": {
        "id": "iMhPPbdSrpxw",
        "colab_type": "code",
        "colab": {
          "base_uri": "https://localhost:8080/",
          "height": 102
        },
        "outputId": "80772120-6f1e-4caa-d39e-4435bd0102b0"
      },
      "source": [
        "num_epochs = 5\n",
        "loss_list = []\n",
        "for epoch in range(num_epochs):\n",
        "  for mini_batch in dataloader:\n",
        "    flattened_mini_batch = torch.reshape(mini_batch[0], (-1, 784)).to(device)\n",
        "    y = mini_batch[1].to(device)\n",
        "    #Forward\n",
        "    output = model_clf(flattened_mini_batch)\n",
        "\n",
        "    #Loss\n",
        "    loss = criterion_clf(output, y)\n",
        "\n",
        "    #Backward\n",
        "    optimizer.zero_grad()\n",
        "    loss.backward()\n",
        "    optimizer.step()\n",
        "\n",
        "    #Store loss for visualization\n",
        "    loss_list.append(loss)\n",
        "\n",
        "  for data in dataloader_test:\n",
        "    flattened_mini_batch = torch.reshape(data[0], (-1, 784)).to(device)\n",
        "    output = model_clf(flattened_mini_batch)\n",
        "    y = data[1].to(device)\n",
        "    break\n",
        "\n",
        "  loss_validation = criterion(output, y)\n",
        "  print('epoch [{}/{}], loss:{:.4f}, loss_validation:{:.4f}'\n",
        "          .format(epoch + 1, num_epochs, loss, loss_validation))\n",
        "  # print('epoch [{}/{}], loss:{:.4f}'\n",
        "  #         .format(epoch + 1, num_epochs, loss))\n"
      ],
      "execution_count": 86,
      "outputs": [
        {
          "output_type": "stream",
          "text": [
            "epoch [1/5], loss:0.4842, loss_validation:0.5653\n",
            "epoch [2/5], loss:0.7158, loss_validation:0.5616\n",
            "epoch [3/5], loss:0.7565, loss_validation:0.5638\n",
            "epoch [4/5], loss:0.5237, loss_validation:0.5577\n",
            "epoch [5/5], loss:0.5142, loss_validation:0.5541\n"
          ],
          "name": "stdout"
        }
      ]
    },
    {
      "cell_type": "code",
      "metadata": {
        "id": "aeDmz9UIueXC",
        "colab_type": "code",
        "colab": {
          "base_uri": "https://localhost:8080/",
          "height": 282
        },
        "outputId": "f03ce503-6c1b-4b26-d0ce-ef3f81b21384"
      },
      "source": [
        "plt.plot(np.array(loss_list), 'r')"
      ],
      "execution_count": 101,
      "outputs": [
        {
          "output_type": "execute_result",
          "data": {
            "text/plain": [
              "[<matplotlib.lines.Line2D at 0x7fe0ad153ef0>]"
            ]
          },
          "metadata": {
            "tags": []
          },
          "execution_count": 101
        },
        {
          "output_type": "display_data",
          "data": {
            "image/png": "[encoded data removed]",
            "text/plain": [
              "<Figure size 432x288 with 1 Axes>"
            ]
          },
          "metadata": {
            "tags": [],
            "needs_background": "light"
          }
        }
      ]
    },
    {
      "cell_type": "code",
      "metadata": {
        "id": "I4VwSw2Jv_Xi",
        "colab_type": "code",
        "colab": {}
      },
      "source": [
        "for data in dataloader:\n",
        "  flattened_mini_batch = torch.reshape(data[0], (-1, 784)).to(device)\n",
        "  y_test = data[1]\n",
        "  encoder_output = model.encoder(flattened_mini_batch)\n",
        "  break"
      ],
      "execution_count": 147,
      "outputs": []
    },
    {
      "cell_type": "code",
      "metadata": {
        "id": "_OIMlyIJsWpE",
        "colab_type": "code",
        "colab": {
          "base_uri": "https://localhost:8080/",
          "height": 34
        },
        "outputId": "bf3f632a-f8cf-4fec-cfe7-1996feee4866"
      },
      "source": [
        "flattened_mini_batch.shape"
      ],
      "execution_count": 148,
      "outputs": [
        {
          "output_type": "execute_result",
          "data": {
            "text/plain": [
              "torch.Size([50, 784])"
            ]
          },
          "metadata": {
            "tags": []
          },
          "execution_count": 148
        }
      ]
    },
    {
      "cell_type": "code",
      "metadata": {
        "id": "XGUSqCvqtmQw",
        "colab_type": "code",
        "colab": {
          "base_uri": "https://localhost:8080/",
          "height": 34
        },
        "outputId": "08467641-b60e-4ff2-e380-588827b8aebe"
      },
      "source": [
        "y_test.shape"
      ],
      "execution_count": 149,
      "outputs": [
        {
          "output_type": "execute_result",
          "data": {
            "text/plain": [
              "torch.Size([50])"
            ]
          },
          "metadata": {
            "tags": []
          },
          "execution_count": 149
        }
      ]
    },
    {
      "cell_type": "code",
      "metadata": {
        "id": "W4yV99OfuH8K",
        "colab_type": "code",
        "colab": {}
      },
      "source": [
        "i = 40"
      ],
      "execution_count": 163,
      "outputs": []
    },
    {
      "cell_type": "code",
      "metadata": {
        "id": "GaV6SDhNtotX",
        "colab_type": "code",
        "colab": {
          "base_uri": "https://localhost:8080/",
          "height": 34
        },
        "outputId": "aeeecff9-1fb4-476f-e009-8f3d85414acd"
      },
      "source": [
        "torch.argmax(model_clf(flattened_mini_batch[i]))"
      ],
      "execution_count": 164,
      "outputs": [
        {
          "output_type": "execute_result",
          "data": {
            "text/plain": [
              "tensor(2, device='cuda:0')"
            ]
          },
          "metadata": {
            "tags": []
          },
          "execution_count": 164
        }
      ]
    },
    {
      "cell_type": "code",
      "metadata": {
        "id": "oCj1zGZTuKeh",
        "colab_type": "code",
        "colab": {
          "base_uri": "https://localhost:8080/",
          "height": 51
        },
        "outputId": "818a3b45-3dc5-453b-fd6f-3c0824b9e057"
      },
      "source": [
        "model_clf(flattened_mini_batch[i])"
      ],
      "execution_count": 165,
      "outputs": [
        {
          "output_type": "execute_result",
          "data": {
            "text/plain": [
              "tensor([ -4.8097,  -8.7987,   5.6194,   0.7659,   4.0927, -15.1163,   5.1341,\n",
              "        -27.1500,  -6.0378, -18.6792], device='cuda:0', grad_fn=<AddBackward0>)"
            ]
          },
          "metadata": {
            "tags": []
          },
          "execution_count": 165
        }
      ]
    },
    {
      "cell_type": "code",
      "metadata": {
        "id": "rc1on4RvtvMV",
        "colab_type": "code",
        "colab": {
          "base_uri": "https://localhost:8080/",
          "height": 34
        },
        "outputId": "39c4f332-c663-4476-fc3d-c7c1bf5e5ff7"
      },
      "source": [
        "y_test[i]"
      ],
      "execution_count": 166,
      "outputs": [
        {
          "output_type": "execute_result",
          "data": {
            "text/plain": [
              "tensor(2)"
            ]
          },
          "metadata": {
            "tags": []
          },
          "execution_count": 166
        }
      ]
    },
    {
      "cell_type": "code",
      "metadata": {
        "id": "k0Iwtd9rt2oi",
        "colab_type": "code",
        "colab": {
          "base_uri": "https://localhost:8080/",
          "height": 265
        },
        "outputId": "03e56996-bfb0-4024-f1c1-ca188fe8de0f"
      },
      "source": [
        "plot_image((torch.reshape(flattened_mini_batch[i], (28,28))).cpu().detach().numpy())"
      ],
      "execution_count": 167,
      "outputs": [
        {
          "output_type": "display_data",
          "data": {
            "image/png": "[encoded data removed]",
            "text/plain": [
              "<Figure size 432x288 with 1 Axes>"
            ]
          },
          "metadata": {
            "tags": [],
            "needs_background": "light"
          }
        }
      ]
    },
    {
      "cell_type": "code",
      "metadata": {
        "id": "oIEAlc4BuPar",
        "colab_type": "code",
        "colab": {}
      },
      "source": [
        ""
      ],
      "execution_count": null,
      "outputs": []
    }
  ]
}